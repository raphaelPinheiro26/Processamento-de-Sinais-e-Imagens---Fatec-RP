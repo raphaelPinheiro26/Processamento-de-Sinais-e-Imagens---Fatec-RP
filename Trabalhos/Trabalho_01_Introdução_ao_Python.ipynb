{
  "nbformat": 4,
  "nbformat_minor": 0,
  "metadata": {
    "colab": {
      "provenance": [],
      "authorship_tag": "ABX9TyNqeq9KKkLooa45egETcLK0",
      "include_colab_link": true
    },
    "kernelspec": {
      "name": "python3",
      "display_name": "Python 3"
    },
    "language_info": {
      "name": "python"
    }
  },
  "cells": [
    {
      "cell_type": "markdown",
      "metadata": {
        "id": "view-in-github",
        "colab_type": "text"
      },
      "source": [
        "<a href=\"https://colab.research.google.com/github/raphaelPinheiro26/Processamento-de-Sinais/blob/main/Trabalho_01_Introdu%C3%A7%C3%A3o_ao_Python.ipynb\" target=\"_parent\"><img src=\"https://colab.research.google.com/assets/colab-badge.svg\" alt=\"Open In Colab\"/></a>"
      ]
    },
    {
      "cell_type": "markdown",
      "source": [
        "Processamento de Sinais (Sistemas Biomédicos)\n",
        "\n",
        "\n",
        "Instruções:\n",
        "\n",
        "\n",
        "\n",
        "*   Esta lista consiste em  3 exercícios. Mas leia com atenção toda a parte introdutória, pois fará diferença para esta e demais listas!\n",
        "*   Deve-se colocar comentários nos códigos desenvolvidos.\n",
        "*   As perguntas devem ser respondidas também como comentários no arquivo.\n",
        "*   Colocar seu nome e número da matricula abaixo.\n",
        "*   Quaisquer problemas na execução das listas, entrar em contato com o professor.\n",
        "*   Depois de terminados os exercícios, deve ser gerado um arquivo extensão .ipynb para ser enviado ao professor pelo TEAMS da disciplina até a data máxima de entrega.\n",
        "*   Caso não seja enviado - ou identifique-se cópia - o aluno ficará sem nota.\n",
        "\n",
        "---"
      ],
      "metadata": {
        "id": "T6wGtkjDP9c1"
      }
    },
    {
      "cell_type": "markdown",
      "source": [
        "`Nome: `\n",
        "\n",
        "`Número FATEC: `\n",
        "\n",
        "`e-mail: `"
      ],
      "metadata": {
        "id": "0ptu7nC3QdOT"
      }
    },
    {
      "cell_type": "markdown",
      "source": [
        "## 1 - Senha Pronto Atendimento\n",
        "\n",
        "Escreva um programa que destribua senhas aos pacientes que chegam no Atendimento de Emergência de um Hospital. Deverá seguir os seguintes critérios\n",
        "* O hospital possui 3 filas (ortopedia, Atendimento Comum e Atendimento Prioritário)\n",
        "* A senha será composta por 3 letras indicando a fila e 3 algarismos indicando a posição do paciente na fila (AAA-000)\n",
        "* A senha de atendimento preferêncial irá iniciar com as letras ATP\n",
        "* A senha de atendimento comum irá iniciar com as letras ATC\n",
        "* A senha de atendimento para ortopedia irá iniciar com as letras ORT\n",
        "* Antes de finalizar o programa, o mesmo deverá imprimir a lista de senhas geradas em cada fila  \n"
      ],
      "metadata": {
        "id": "F_Ur0XKsVdxg"
      }
    },
    {
      "cell_type": "markdown",
      "source": [
        "## 2 - Horário de Medicamentos\n",
        "\n",
        "Faça um programa que a equipe de enfermagem entre com as informações do paciente para lembra-los do horário da medicação com as seguintes recomendações:\n",
        "* Dados do Paciente - Nome Completo, Data de Nascimento e Tipo do sangue\n",
        "* Dados da Medicação - Nome da Medicação, Classificação, e horário para aplicação\n",
        "* A Classificação do Medicamento será - medicamento comum, Psicotrópico, Alto risco, Alto custo e Psicotrópicos\n",
        "* Ao chegar nos horários do medicamento, um aviso deverá aparecer na tela\n",
        "* o horário pode ser simulado mas se for usado a hora do computador ganhará mais pontos\n",
        "* Pelo menos 2 horários distintos para alarmar"
      ],
      "metadata": {
        "id": "eVJFq-S5YDHe"
      }
    },
    {
      "cell_type": "markdown",
      "source": [
        "## 3 - Inventário de Equipamentos Biomédicos\n",
        "\n",
        "Faça um programa que tenha dois modos acessados por um menu. O primeiro módulo é de cadastro de equipamentos médicos e o segundo é de consulta dos equipamentos cadastrados. Siga as instruções:\n",
        "* O software deverá ter um menu principal onde o usuáriopoderá acessar as duas opções\n",
        "* Na parte de cadastramento o usuário deverá entrar com os dados nos campos: Nome do Equipamento, TAG de identificação, e local de uso.\n",
        "* A tag é um jeito mais fácil de identificar os equipamentos. exemplo:3° monitor multiparemetro da UTI -> UTI-MNP-0003 Porém vc pode criar a sua forma\n",
        "* No modo de consulta deverá ter 3 formas de consulta (TAG, Tipo de equipamento e Local de uso)\n",
        "* Ao consultar um item por uma das formas, as outras informações referente a este item taambém deverá aparecer\n",
        "\n",
        "\n",
        "\n"
      ],
      "metadata": {
        "id": "jZJzRVdZbYyG"
      }
    }
  ]
}