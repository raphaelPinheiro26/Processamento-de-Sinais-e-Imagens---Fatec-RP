{
  "nbformat": 4,
  "nbformat_minor": 0,
  "metadata": {
    "colab": {
      "provenance": [],
      "authorship_tag": "ABX9TyMCqrNARISKKMwIzMgfg4FX",
      "include_colab_link": true
    },
    "kernelspec": {
      "name": "python3",
      "display_name": "Python 3"
    },
    "language_info": {
      "name": "python"
    }
  },
  "cells": [
    {
      "cell_type": "markdown",
      "metadata": {
        "id": "view-in-github",
        "colab_type": "text"
      },
      "source": [
        "<a href=\"https://colab.research.google.com/github/raphaelPinheiro26/Processamento-de-Sinais-e-Imagens---Fatec-RP/blob/main/Processamento_de_Imagem.ipynb\" target=\"_parent\"><img src=\"https://colab.research.google.com/assets/colab-badge.svg\" alt=\"Open In Colab\"/></a>"
      ]
    },
    {
      "cell_type": "markdown",
      "source": [
        "Processamento de Sinais e Imagens Biomédicas (Sistemas Biomédicos)\n",
        "\n",
        "\n",
        "Instruções:\n",
        "\n",
        "\n",
        "\n",
        "*   Leia com atenção toda a parte introdutória, pois fará diferença para esta e demais listas!\n",
        "*   Deve-se colocar comentários nos códigos desenvolvidos.\n",
        "*   As perguntas devem ser respondidas também como comentários no arquivo.\n",
        "*   Colocar seu nome e número da matricula abaixo.\n",
        "*   Quaisquer problemas na execução das listas, entrar em contato com o professor.\n",
        "*   Depois de terminados os exercícios, deve ser gerado um arquivo extensão .ipynb para ser enviado ao professor pelo TEAMS da disciplina até a data máxima de entrega.\n",
        "*   Caso não seja enviado - ou identifique-se cópia - o aluno ficará sem nota.\n",
        "\n",
        "\n",
        "\n",
        "---\n",
        "\n",
        "\n",
        "\n",
        "\n",
        "\n",
        "\n",
        "\n",
        "\n",
        "\n",
        "\n",
        "\n",
        "\n",
        "\n",
        "\n",
        "\n",
        "\n",
        "\n",
        "\n"
      ],
      "metadata": {
        "id": "dREjFUxMe7ko"
      }
    },
    {
      "cell_type": "markdown",
      "source": [
        "`Nome: `\n",
        "\n",
        "`Número FATEC: `\n",
        "\n",
        "`e-mail: `"
      ],
      "metadata": {
        "id": "GdrXgUTygdlM"
      }
    },
    {
      "cell_type": "markdown",
      "source": [
        "### Introdução:\n",
        "\n",
        "Nesta lista de exercícios vamos estudar imagens. Sinais e imagens compartilham do mesmo principio. Enquanto sinais são vetores de uma dimensão, Imagens são vetores de 2 ou 3 dimensões, ou seja, uma matriz Sobre esta lista, iremos abordar histogramas, transformações de intensidade ponto a ponto, equalização de histogramas, filtros passa-baixa, passa-alta e processamento de pixel de borda. Primeiramente, vamos importar as bibliotecas que iremos utilizar:"
      ],
      "metadata": {
        "id": "NZCrxzr8R-9L"
      }
    },
    {
      "cell_type": "code",
      "source": [
        "import numpy as np\n",
        "import matplotlib.pyplot as plt\n",
        "import cv2 as cv\n",
        "import os\n",
        "\n",
        "from scipy.io import loadmat\n",
        "from IPython.display import HTML\n",
        "from base64 import b64encode"
      ],
      "metadata": {
        "id": "vSxqOkGtSm1p"
      },
      "execution_count": 7,
      "outputs": []
    },
    {
      "cell_type": "markdown",
      "source": [
        "### 1) Visualização de histogramas (Nota: 3.0/10.0)\n",
        "\n",
        "Então, o que é histograma? Você pode considerar o histograma como um gráfico (ou plotagem) que dá uma ideia geral sobre a distribuição da intensidade dos pixels de uma imagem. É um gráfico que indica os valores de intensidade dos pixels (variando de 0 a 255, caso a quantização seja realizada em 8 bits), no eixo X, e o número de pixels na imagem com a intensidade correspondente, no eixo Y.\n",
        "\n",
        "É apenas outra forma de entender a imagem. Olhando para o histograma de uma imagem, você tem uma intuição sobre o contraste, brilho, distribuição de intensidade, etc. Quase todas as ferramentas de processamento de imagem oferecem recursos de histograma.\n",
        "\n",
        "<center><img src=\"https://github.com/LAVI-USP/SEL0449-SEL5895_2024/blob/main/imagens/pratica_03/histograma.png?raw=true\" style=\"width:650px;height:300px;\"></center>\n",
        "\n",
        "<center><caption><b> Figura 1:</b> Exemplo de histograma.</b></caption></center>\n",
        "<caption><center> Referência: <a href=\"https://docs.opencv.org/master/d1/db7/tutorial_py_histogram_begins.html\">Histograms - OpenCV</a>.</center></caption>\n",
        "\n",
        "**Exercício:**\n",
        "\n",
        "1. Mostre a imagem ```xc.tif``` e seu histograma com o número de *bins* diferentes. Utilize ```bins=50``` e ```bins=100``` e comente os resultados.\n",
        "2. A que parte da imagem corresponde cada agrupamento de pixels apresentado no histograma? Identifique os \"vales\" presentes no histograma e mostre a imagem novamente limitando a faixa de intensidades a ser exibida dentro da faixa de valores correspondente a cada agrupamento do histograma. Para isso, utilize os parametros ```vmin``` e ```vmax``` do ```plt.imshow```.\n",
        "\n",
        "*ATENÇÂO:* Utilize a função [plt.hist](https://matplotlib.org/3.3.1/api/_as_gen/matplotlib.pyplot.hist.html). O intuito é que vcs pesquisem mais informações sobre histograma e sobre a função nos fóruns do python e entendam como funciona.\n",
        "\n",
        "*DICA:* Te garanto que é legal fazer isso!\n",
        "\n",
        "\n",
        "*Ex:*\n",
        "``` python\n",
        "plt.hist(imagem_aqui.flatten(),bins=XX,density=False,range=(0,255))\n",
        "```"
      ],
      "metadata": {
        "id": "FTUb_Y-iZDK_"
      }
    },
    {
      "cell_type": "code",
      "source": [
        "retina = cv.imread(\"retina.tif\",cv.IMREAD_UNCHANGED ) #colocando a imagem na variável retina\n",
        "\n",
        "## -- Seu código começa AQUI -- ##\n",
        "\n",
        "\n",
        "\n",
        "\n",
        "\n",
        "\n",
        "## -- Seu código termina AQUI -- ##\n",
        "\n",
        "#COMENTÁRIO:\n"
      ],
      "metadata": {
        "id": "1KQLSISzalmZ"
      },
      "execution_count": 16,
      "outputs": []
    },
    {
      "cell_type": "markdown",
      "source": [
        "### 2) Transformação de intensidades (Nota: 3.0/10.0)\n",
        "\n",
        "As técnicas de processamento no domínio espacial operam diretamente nos pixels da imagem. A expressão geral para a função de transformação nos níveis de cinza pode ser dada por:\n",
        "\n",
        "$$g(x,y) = T[f(x,y)],$$\n",
        "\n",
        "sendo $f(x,y)$ a imagem de entrada e $g(x,y)$ a imagem de saída ou imagem processada. $T$ é um operador em $f$.\n",
        "\n",
        "\n",
        "2.1) Transformação linear:\n",
        "\n",
        "Um exemplo de função de transformação é a linear, tal que:\n",
        "\n",
        "$$g(x,y) = c \\times f(x,y) + b,$$\n",
        "\n",
        "onde $c$ é uma constante que controla o contraste, e $b$, o brilho.\n",
        "\n",
        "**Exercício:**\n",
        "\n",
        "1. Aplique uma transformação linear na imagem ```tomo.tif``` de modo a alargar seu histograma para toda a faixa de valores de dados do tipo ```8 bits```. Ou seja, encontre um valor de $c$ e $b$ para que o histograma imagem esteja na faixa de 0 a 255.\n",
        "\n",
        "2. Use a transformação linear na imagem ```tomo.tif``` para fazer o efeito ```negativo```, ou seja inverter as cores. Plote o seu histograma e comente os resultados."
      ],
      "metadata": {
        "id": "AiOpElcAf6HR"
      }
    },
    {
      "cell_type": "code",
      "source": [
        "#@title Dica - Use o Slider para os valores de C e B { run: \"auto\" }\n",
        "\n",
        "slider = 199 #@param {type:\"slider\", min:0, max:480, step:1}\n",
        "#nome da variável = valor inicial {minimo =0 e máximo = 480, passo =1 em 1}\n",
        "#dica: depois de definido o valor, clique em \"Run Cell\" (executar)"
      ],
      "metadata": {
        "id": "IM7qFhhgmG1X"
      },
      "execution_count": 19,
      "outputs": []
    },
    {
      "cell_type": "code",
      "source": [
        "tomo = cv.imread(\"tomo.tif\",cv.IMREAD_UNCHANGED ) #colocando a imagem na variável tomo\n",
        "\n",
        "## -- Seu código começa AQUI -- ##\n",
        "\n",
        "\n",
        "\n",
        "\n",
        "\n",
        "\n",
        "## -- Seu código termina AQUI -- ##\n",
        "\n",
        "#COMENTÁRIO:"
      ],
      "metadata": {
        "id": "QiuSuHlrkyky"
      },
      "execution_count": null,
      "outputs": []
    },
    {
      "cell_type": "markdown",
      "source": [
        "### 3) Resutauração de Imagens  (Nota: 4.0/10.0)\n",
        "\n",
        "Algumas vezes a captura da imagem não foi boa o suficiente para se obter o diagnóstico. Quando o probrla está no brilho e contraste, podemos usar a transformação linear para tentar restaurar parte das informações da imagem\n",
        "\n",
        "\n",
        "**Exercício:**\n",
        "\n",
        "1. Aplique uma transformação linear na imagem ```xc.tif``` de modo a trazer as informações escondidas no fundo da retina.\n",
        "\n",
        "2. Plote os Histogramas antes e depois e comente os resultados.\n",
        "\n",
        "3. assista o vídeo  [ Contrastes e Densidade:](https://www.youtube.com/watch?v=Ne-cigxWhAU) (Pule a parte da questão) e comente sobre qual a relação de KVP e MAS com o brilho e contraste em imagens de RX\n",
        "\n",
        "**DICA:** Use o slider para Contrastes e outro para o Brilho.\n"
      ],
      "metadata": {
        "id": "jjRcZSqwmmV5"
      }
    },
    {
      "cell_type": "code",
      "source": [
        "xc = cv.imread(\"xc.tif\",cv.IMREAD_UNCHANGED ) #colocando a imagem na variável xc\n",
        "\n",
        "## -- Seu código começa AQUI -- ##\n",
        "\n",
        "\n",
        "\n",
        "\n",
        "## -- Seu código termina AQUI -- ##\n",
        "\n",
        "#COMENTÁRIO:"
      ],
      "metadata": {
        "id": "FyW10UnNnuLM"
      },
      "execution_count": null,
      "outputs": []
    }
  ]
}